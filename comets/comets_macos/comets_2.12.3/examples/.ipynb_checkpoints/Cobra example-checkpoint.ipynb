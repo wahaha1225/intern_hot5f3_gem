{
 "cells": [
  {
   "cell_type": "code",
   "execution_count": 1,
   "id": "50227cb5",
   "metadata": {},
   "outputs": [],
   "source": [
    "import cobra"
   ]
  },
  {
   "cell_type": "code",
   "execution_count": 11,
   "id": "788ec540",
   "metadata": {},
   "outputs": [],
   "source": [
    "E_coli_model=cobra.io.read_sbml_model('EcoliGEM.xml')"
   ]
  },
  {
   "cell_type": "code",
   "execution_count": 23,
   "id": "4464eaf5",
   "metadata": {},
   "outputs": [
    {
     "data": {
      "text/html": [
       "\n",
       "        <table>\n",
       "            <tr>\n",
       "                <td><strong>Name</strong></td>\n",
       "                <td>EcoliGEM</td>\n",
       "            </tr><tr>\n",
       "                <td><strong>Memory address</strong></td>\n",
       "                <td>0x02108cd2af40</td>\n",
       "            </tr><tr>\n",
       "                <td><strong>Number of metabolites</strong></td>\n",
       "                <td>1456</td>\n",
       "            </tr><tr>\n",
       "                <td><strong>Number of reactions</strong></td>\n",
       "                <td>1768</td>\n",
       "            </tr><tr>\n",
       "                <td><strong>Number of groups</strong></td>\n",
       "                <td>0</td>\n",
       "            </tr><tr>\n",
       "                <td><strong>Objective expression</strong></td>\n",
       "                <td>1.0*bio1_biomass - 1.0*bio1_biomass_reverse_6e711</td>\n",
       "            </tr><tr>\n",
       "                <td><strong>Compartments</strong></td>\n",
       "                <td>c0, e0</td>\n",
       "            </tr>\n",
       "          </table>"
      ],
      "text/plain": [
       "<Model EcoliGEM at 0x2108cd2af40>"
      ]
     },
     "execution_count": 23,
     "metadata": {},
     "output_type": "execute_result"
    }
   ],
   "source": [
    "E_coli_model"
   ]
  },
  {
   "cell_type": "code",
   "execution_count": 41,
   "id": "aa0f6617",
   "metadata": {},
   "outputs": [],
   "source": [
    "solution=E_coli_model.optimize()"
   ]
  },
  {
   "cell_type": "code",
   "execution_count": 42,
   "id": "2b2c79ba",
   "metadata": {},
   "outputs": [
    {
     "data": {
      "text/html": [
       "<strong><em>Optimal</em> solution with objective value 183.226</strong><br><div>\n",
       "<style scoped>\n",
       "    .dataframe tbody tr th:only-of-type {\n",
       "        vertical-align: middle;\n",
       "    }\n",
       "\n",
       "    .dataframe tbody tr th {\n",
       "        vertical-align: top;\n",
       "    }\n",
       "\n",
       "    .dataframe thead th {\n",
       "        text-align: right;\n",
       "    }\n",
       "</style>\n",
       "<table border=\"1\" class=\"dataframe\">\n",
       "  <thead>\n",
       "    <tr style=\"text-align: right;\">\n",
       "      <th></th>\n",
       "      <th>fluxes</th>\n",
       "      <th>reduced_costs</th>\n",
       "    </tr>\n",
       "  </thead>\n",
       "  <tbody>\n",
       "    <tr>\n",
       "      <th>rxn05561_c0</th>\n",
       "      <td>377.410833</td>\n",
       "      <td>0.000000e+00</td>\n",
       "    </tr>\n",
       "    <tr>\n",
       "      <th>rxn00935_c0</th>\n",
       "      <td>0.000000</td>\n",
       "      <td>9.125721e-18</td>\n",
       "    </tr>\n",
       "    <tr>\n",
       "      <th>rxn00247_c0</th>\n",
       "      <td>0.000000</td>\n",
       "      <td>-4.580641e-02</td>\n",
       "    </tr>\n",
       "    <tr>\n",
       "      <th>rxn05625_c0</th>\n",
       "      <td>-586.408148</td>\n",
       "      <td>4.007916e-17</td>\n",
       "    </tr>\n",
       "    <tr>\n",
       "      <th>rxn02342_c0</th>\n",
       "      <td>0.000000</td>\n",
       "      <td>0.000000e+00</td>\n",
       "    </tr>\n",
       "    <tr>\n",
       "      <th>...</th>\n",
       "      <td>...</td>\n",
       "      <td>...</td>\n",
       "    </tr>\n",
       "    <tr>\n",
       "      <th>EX_cpd00609_e0</th>\n",
       "      <td>0.000000</td>\n",
       "      <td>0.000000e+00</td>\n",
       "    </tr>\n",
       "    <tr>\n",
       "      <th>EX_cpd03279_e0</th>\n",
       "      <td>0.000000</td>\n",
       "      <td>-2.114328e-17</td>\n",
       "    </tr>\n",
       "    <tr>\n",
       "      <th>DM_cpd15302_c0</th>\n",
       "      <td>0.000000</td>\n",
       "      <td>5.551115e-17</td>\n",
       "    </tr>\n",
       "    <tr>\n",
       "      <th>DM_cpd11416_c0</th>\n",
       "      <td>183.225659</td>\n",
       "      <td>0.000000e+00</td>\n",
       "    </tr>\n",
       "    <tr>\n",
       "      <th>DM_cpd02701_c0</th>\n",
       "      <td>0.000000</td>\n",
       "      <td>0.000000e+00</td>\n",
       "    </tr>\n",
       "  </tbody>\n",
       "</table>\n",
       "<p>1768 rows × 2 columns</p>\n",
       "</div>"
      ],
      "text/plain": [
       "<Solution 183.226 at 0x210a0982460>"
      ]
     },
     "execution_count": 42,
     "metadata": {},
     "output_type": "execute_result"
    }
   ],
   "source": [
    "solution"
   ]
  },
  {
   "cell_type": "code",
   "execution_count": 77,
   "id": "dd75f38d",
   "metadata": {},
   "outputs": [
    {
     "ename": "AttributeError",
     "evalue": "'Solution' object has no attribute 'objective'",
     "output_type": "error",
     "traceback": [
      "\u001b[1;31m---------------------------------------------------------------------------\u001b[0m",
      "\u001b[1;31mAttributeError\u001b[0m                            Traceback (most recent call last)",
      "Input \u001b[1;32mIn [77]\u001b[0m, in \u001b[0;36m<cell line: 1>\u001b[1;34m()\u001b[0m\n\u001b[1;32m----> 1\u001b[0m \u001b[43msolution\u001b[49m\u001b[38;5;241;43m.\u001b[39;49m\u001b[43mobjective\u001b[49m\n",
      "\u001b[1;31mAttributeError\u001b[0m: 'Solution' object has no attribute 'objective'"
     ]
    }
   ],
   "source": [
    "solution.objective"
   ]
  },
  {
   "cell_type": "code",
   "execution_count": null,
   "id": "084ca52a",
   "metadata": {},
   "outputs": [],
   "source": []
  }
 ],
 "metadata": {
  "kernelspec": {
   "display_name": "Python 3 (ipykernel)",
   "language": "python",
   "name": "python3"
  },
  "language_info": {
   "codemirror_mode": {
    "name": "ipython",
    "version": 3
   },
   "file_extension": ".py",
   "mimetype": "text/x-python",
   "name": "python",
   "nbconvert_exporter": "python",
   "pygments_lexer": "ipython3",
   "version": "3.9.12"
  }
 },
 "nbformat": 4,
 "nbformat_minor": 5
}
